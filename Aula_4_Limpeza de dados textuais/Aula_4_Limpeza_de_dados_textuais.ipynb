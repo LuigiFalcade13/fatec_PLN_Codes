{
  "nbformat": 4,
  "nbformat_minor": 0,
  "metadata": {
    "colab": {
      "provenance": [],
      "include_colab_link": true
    },
    "kernelspec": {
      "name": "python3",
      "display_name": "Python 3"
    },
    "language_info": {
      "name": "python"
    }
  },
  "cells": [
    {
      "cell_type": "markdown",
      "metadata": {
        "id": "view-in-github",
        "colab_type": "text"
      },
      "source": [
        "<a href=\"https://colab.research.google.com/github/LuigiFalcade13/fatec_PLN_Codes/blob/main/Aula_4_Limpeza_de_dados_textuais.ipynb\" target=\"_parent\"><img src=\"https://colab.research.google.com/assets/colab-badge.svg\" alt=\"Open In Colab\"/></a>"
      ]
    },
    {
      "cell_type": "markdown",
      "source": [
        "**Luigi Falcade de Souza**"
      ],
      "metadata": {
        "id": "r8fLXkofReY_"
      }
    },
    {
      "cell_type": "markdown",
      "source": [
        "# Aula 4 - Limpeza de dados textuais"
      ],
      "metadata": {
        "id": "5I7jDRVS8Xbe"
      }
    },
    {
      "cell_type": "markdown",
      "source": [
        "## 4.1 Normalização de texto e Remoção de ruído\n",
        "\n",
        "*   Remover caracteres especiais, pontuações, e normalizar o uso de letras maiúsculas e minúsculas\n",
        "\n"
      ],
      "metadata": {
        "id": "8aG_mLLKXjmN"
      }
    },
    {
      "cell_type": "code",
      "execution_count": 1,
      "metadata": {
        "colab": {
          "base_uri": "https://localhost:8080/"
        },
        "id": "KqmbkHE38Pd4",
        "outputId": "553e5454-7846-49e1-d66f-a48805c8fcd8"
      },
      "outputs": [
        {
          "output_type": "stream",
          "name": "stdout",
          "text": [
            "Texto original: Olá!!! Este é um exemplo de texto, com várias PONTUAÇÕES, símbolos #especiais, e LETRAS maiúsculas.\n",
            "\n",
            "Texto limpo: Olá Este é um exemplo de texto com várias PONTUAÇÕES símbolos especiais e LETRAS maiúsculas\n",
            "\n",
            "Texto normalizado: olá este é um exemplo de texto com várias pontuações símbolos especiais e letras maiúsculas\n"
          ]
        }
      ],
      "source": [
        "# importar a biblioteca que tras as funcionalidades para expressões regulares\n",
        "import re\n",
        "\n",
        "original = \"Olá!!! Este é um exemplo de texto, com várias PONTUAÇÕES, símbolos #especiais, e LETRAS maiúsculas.\"\n",
        "\n",
        "texto_limpo = re.sub(r'[^A-Za-zÀ-ÿ\\s]', '', original)\n",
        "  # realiza a substituicação dos caracteres especiais\n",
        "  # re.sub(parametro1, parametro2, parametro3) >>> realizar a busca e a substituição\n",
        "    # parametro1: r'[^A-Za-zÀ-ÿ\\s]': é o trecho que irá ser buscado para substituir\n",
        "      # ^A-Za-zÀ-ÿ\\s: os intervalos de texto que serão procurados\n",
        "        # A-Z: busca o intervalo de letras de A até Z\n",
        "        # a-z: busca o intervalo de letras de a até z\n",
        "        # À-ÿ: busca qualquer letra acentuada\n",
        "        # ^: representa a negação dos valores\n",
        "        # [^A-Za-zÀ-ÿ\\s]: busca todos os valores que não são letras (com ou sem acento)\n",
        "        # \\s: deixar os espaços\n",
        "    # parametro2: '' >>> o termo que eu vou substituir, no caso uma string vazia\n",
        "    # parametro3: variável que contém o meu texto\n",
        "    # O QUE É O TERMO R NA EXPRESSÃO REGULAR REGEX - OLHAR NA DOCUMENTAÇÃO\n",
        "\n",
        "texto_normalizado = texto_limpo.lower()\n",
        "\n",
        "print(f'Texto original: {original}')\n",
        "print(f'\\nTexto limpo: {texto_limpo}')\n",
        "print(f'\\nTexto normalizado: {texto_normalizado}')"
      ]
    },
    {
      "cell_type": "markdown",
      "source": [
        "\n",
        "O código limpa e normaliza um texto, removendo pontuações, símbolos especiais e deixando todas as letras em minúsculas. Primeiro, ele elimina os caracteres indesejados, como letras não acentuadas e símbolos, mantendo apenas letras e espaços. Depois, transforma todas as letras em minúsculas para padronizar o texto. O resultado é um texto mais simples e pronto para ser analisado.\n",
        "\n",
        "\n",
        "\n",
        "\n",
        "\n",
        "\n"
      ],
      "metadata": {
        "id": "BVJp_5JlSIOJ"
      }
    },
    {
      "cell_type": "code",
      "source": [
        "\n",
        "# Importa a biblioteca NLTK e a função word_tokenize, que realiza a tokenização de texto\n",
        "import nltk\n",
        "from nltk.tokenize import word_tokenize\n",
        "\n",
        "# Faz o download do recurso 'punkt', necessário para a tokenização de palavras\n",
        "nltk.download('punkt_tab')  # O 'punkt_tab' é um conjunto de dados que contém um modelo para tokenização\n",
        "\n",
        "# Texto já normalizado (completo do código anterior)\n",
        "texto_normalizado = 'olá este é um exemplo de texto com várias pontuações símbolos especiais e letras maiúsculas'\n",
        "\n",
        "# Realiza a tokenização do texto, separando-o em palavras (tokens)\n",
        "tokens = word_tokenize(texto_normalizado)\n",
        "\n",
        "# Exibe a lista de tokens (palavras separadas)\n",
        "print(tokens)\n",
        "\n",
        "# Exibe a quantidade de tokens (número de palavras)\n",
        "print(len(tokens))"
      ],
      "metadata": {
        "colab": {
          "base_uri": "https://localhost:8080/"
        },
        "id": "J9zybQWsSoOF",
        "outputId": "8c6db7d0-b273-4ec4-9b19-a211cc84491d"
      },
      "execution_count": 3,
      "outputs": [
        {
          "output_type": "stream",
          "name": "stdout",
          "text": [
            "['olá', 'este', 'é', 'um', 'exemplo', 'de', 'texto', 'com', 'várias', 'pontuações', 'símbolos', 'especiais', 'e', 'letras', 'maiúsculas']\n",
            "15\n"
          ]
        },
        {
          "output_type": "stream",
          "name": "stderr",
          "text": [
            "[nltk_data] Downloading package punkt_tab to /root/nltk_data...\n",
            "[nltk_data]   Unzipping tokenizers/punkt_tab.zip.\n"
          ]
        }
      ]
    },
    {
      "cell_type": "markdown",
      "source": [
        "O código realiza a tokenização de um texto, ou seja, separa o texto em palavras individuais, chamadas de tokens. Primeiro, ele importa a biblioteca NLTK e a função word_tokenize, que é usada para dividir o texto em palavras. Em seguida, faz o download do recurso necessário para a tokenização. O texto fornecido já foi normalizado (sem pontuações e em minúsculas) e, ao aplicar word_tokenize, ele separa o texto em tokens. Por fim, o código exibe a lista de palavras separadas e a quantidade de palavras (tokens) no texto. Esse processo é útil em tarefas de Processamento de Linguagem Natural, como análise de frequência de palavras."
      ],
      "metadata": {
        "id": "YYXHxaYHTCK7"
      }
    },
    {
      "cell_type": "markdown",
      "source": [
        "## 4.2 Tokenização\n",
        "*   Tokenização é dividir o texto em unidades menores (tokens), que geralmente são palavras ou pontuações.\n",
        "\n"
      ],
      "metadata": {
        "id": "ityE6BRiFuuh"
      }
    },
    {
      "cell_type": "code",
      "source": [
        "import nltk\n",
        "from nltk.tokenize import word_tokenize\n",
        "nltk.download('punkt')\n",
        "\n",
        "tokens = word_tokenize(texto_normalizado)\n",
        "\n",
        "print(tokens)\n",
        "print(len(tokens))"
      ],
      "metadata": {
        "colab": {
          "base_uri": "https://localhost:8080/"
        },
        "id": "phRmuGlcGA9g",
        "outputId": "f9661531-bb8a-4251-bd65-cc76dc881962"
      },
      "execution_count": 4,
      "outputs": [
        {
          "output_type": "stream",
          "name": "stdout",
          "text": [
            "['olá', 'este', 'é', 'um', 'exemplo', 'de', 'texto', 'com', 'várias', 'pontuações', 'símbolos', 'especiais', 'e', 'letras', 'maiúsculas']\n",
            "15\n"
          ]
        },
        {
          "output_type": "stream",
          "name": "stderr",
          "text": [
            "[nltk_data] Downloading package punkt to /root/nltk_data...\n",
            "[nltk_data]   Package punkt is already up-to-date!\n"
          ]
        }
      ]
    },
    {
      "cell_type": "markdown",
      "source": [
        "O código utiliza a biblioteca NLTK para dividir um texto em palavras (tokens). Ele faz o download do recurso necessário para a tokenização, aplica word_tokenize no texto normalizado e imprime a lista de palavras separadas, além de mostrar o número total de palavras. Esse processo é importante para análises de texto em PLN.\n",
        "\n",
        "\n",
        "\n",
        "\n",
        "\n",
        "\n"
      ],
      "metadata": {
        "id": "9Vf4pg6ETLqS"
      }
    },
    {
      "cell_type": "markdown",
      "source": [
        "## 4.3 Remoção de StopWords\n",
        "\n",
        "*   StopWords são palavras de pouco valor semântico (como \"de\", \"a\", \"o\") que podem ser removidas para simplificar o texto\n",
        "\n"
      ],
      "metadata": {
        "id": "8NGNvrr8X1TB"
      }
    },
    {
      "cell_type": "code",
      "source": [
        "from nltk.corpus import stopwords\n",
        "\n",
        "nltk.download('stopwords')\n",
        "\n",
        "stopwords_pt = set (stopwords.words('portuguese'))\n",
        "tokens_sem_stopwords = [palavra for palavra in tokens if palavra.lower() not in stopwords_pt]\n",
        "print(tokens_sem_stopwords)\n",
        "print(len(tokens_sem_stopwords))"
      ],
      "metadata": {
        "colab": {
          "base_uri": "https://localhost:8080/"
        },
        "id": "3JzGHqfhP7ue",
        "outputId": "ff4b00d1-e22f-423c-b319-03e91e617162"
      },
      "execution_count": 5,
      "outputs": [
        {
          "output_type": "stream",
          "name": "stdout",
          "text": [
            "['olá', 'exemplo', 'texto', 'várias', 'pontuações', 'símbolos', 'especiais', 'letras', 'maiúsculas']\n",
            "9\n"
          ]
        },
        {
          "output_type": "stream",
          "name": "stderr",
          "text": [
            "[nltk_data] Downloading package stopwords to /root/nltk_data...\n",
            "[nltk_data]   Unzipping corpora/stopwords.zip.\n"
          ]
        }
      ]
    },
    {
      "cell_type": "markdown",
      "source": [
        "## 4.4 Stemming e Lematização\n",
        "\n",
        "*   Stemming reduz as palavras às suas raízes (ou radicais);\n",
        "*   Lematização normaliza as palvras para suas formas base, levando em conta contexto e gramática - ESTE EXEMPLO\n",
        "\n"
      ],
      "metadata": {
        "id": "bZKhRcS9V9Ju"
      }
    },
    {
      "cell_type": "code",
      "source": [
        "from nltk.stem import RSLPStemmer\n",
        "\n",
        "nltk.download('rslp')\n",
        "\n",
        "stemmer = RSLPStemmer()\n",
        "stemming = [stemmer.stem(palavra) for palavra in tokens_sem_stopwords]\n",
        "print(stemming)"
      ],
      "metadata": {
        "colab": {
          "base_uri": "https://localhost:8080/"
        },
        "id": "ntorHrcSWBx2",
        "outputId": "f0d85d18-1a0b-4168-fa4b-c76f3a206df8"
      },
      "execution_count": 6,
      "outputs": [
        {
          "output_type": "stream",
          "name": "stdout",
          "text": [
            "['olá', 'exempl', 'text', 'vár', 'pontu', 'símbol', 'espec', 'letr', 'maiúscul']\n"
          ]
        },
        {
          "output_type": "stream",
          "name": "stderr",
          "text": [
            "[nltk_data] Downloading package rslp to /root/nltk_data...\n",
            "[nltk_data]   Unzipping stemmers/rslp.zip.\n"
          ]
        }
      ]
    },
    {
      "cell_type": "markdown",
      "source": [
        "## 4.5 Utilizando todo o processo de hoje"
      ],
      "metadata": {
        "id": "rjzrvKCzYWJq"
      }
    },
    {
      "cell_type": "code",
      "source": [
        "# importação das bibliotecas - por ordem alfabética\n",
        "import nltk\n",
        "import re\n",
        "# importação das funcionalidades\n",
        "from nltk.corpus import stopwords\n",
        "from nltk.stem import PorterStemmer\n",
        "\n",
        "# Download dos recursos do NLTK\n",
        "nltk.download('punkt')\n",
        "nltk.download('stopwords')\n",
        "\n",
        "# Texto de exemplo\n",
        "texto = \"Este é um exemplo de texto com muitas palavras, algumas repetidas outra @não, e pontuação e outros simbolos que não FAzem parte do texto que desejo . Vamos limpar e organizar esse texto. Há também números 123 e caracteres especiais @#$%.\"\n",
        "\n",
        "# Limpeza de ruídos e normalização\n",
        "texto_limpo = re.sub(r'[^a-zA-Z]', ' ', texto)\n",
        "texto_lower = texto_limpo.lower()\n",
        "\n",
        "# Tokenização\n",
        "tokens = nltk.word_tokenize(texto_lower)\n",
        "\n",
        "# Remoção de stopwords\n",
        "stop_words = set(stopwords.words('portuguese'))\n",
        "palavras_filtradas = [palavra for palavra in tokens if palavra not in stop_words]\n",
        "\n",
        "# Stemming\n",
        "stemmer = PorterStemmer()\n",
        "palavras_stemizadas = [stemmer.stem(palavra) for palavra in palavras_filtradas]\n",
        "\n",
        "# Impressão do resultado final\n",
        "print(palavras_stemizadas)"
      ],
      "metadata": {
        "colab": {
          "base_uri": "https://localhost:8080/"
        },
        "id": "QNAyYZGCZ3q1",
        "outputId": "530fbfd5-959c-4bd8-fffc-1b2bcf7aa27a"
      },
      "execution_count": 7,
      "outputs": [
        {
          "output_type": "stream",
          "name": "stdout",
          "text": [
            "['exemplo', 'texto', 'muita', 'palavra', 'alguma', 'repetida', 'outra', 'n', 'pontua', 'outro', 'simbolo', 'n', 'fazem', 'part', 'texto', 'desejo', 'vamo', 'limpar', 'organizar', 'texto', 'h', 'tamb', 'm', 'n', 'mero', 'caracter', 'especiai']\n"
          ]
        },
        {
          "output_type": "stream",
          "name": "stderr",
          "text": [
            "[nltk_data] Downloading package punkt to /root/nltk_data...\n",
            "[nltk_data]   Package punkt is already up-to-date!\n",
            "[nltk_data] Downloading package stopwords to /root/nltk_data...\n",
            "[nltk_data]   Package stopwords is already up-to-date!\n"
          ]
        }
      ]
    }
  ]
}
